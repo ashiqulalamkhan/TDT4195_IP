{
 "cells": [
  {
   "cell_type": "code",
   "execution_count": 1,
   "metadata": {
    "pycharm": {
     "name": "#%%\n"
    }
   },
   "outputs": [],
   "source": [
    "import torch\n",
    "import torch.nn as nn\n",
    "import matplotlib.pyplot as plt\n",
    "import tqdm\n",
    "import numpy as np\n",
    "import utils\n",
    "import dataloaders\n",
    "import torchvision\n",
    "from trainer import Trainer\n",
    "torch.random.manual_seed(0)\n",
    "np.random.seed(0)"
   ]
  },
  {
   "cell_type": "markdown",
   "metadata": {
    "pycharm": {
     "name": "#%% md\n"
    }
   },
   "source": [
    "### Dataset"
   ]
  },
  {
   "cell_type": "code",
   "execution_count": null,
   "outputs": [],
   "source": [
    "# Load the dataset and print some stats\n",
    "batch_size = 64\n",
    "\n",
    "image_transform = torchvision.transforms.Compose([\n",
    "    torchvision.transforms.ToTensor()\n",
    "])\n",
    "\n",
    "dataloader_train, dataloader_test = dataloaders.load_dataset(batch_size, image_transform)\n",
    "example_images, _ = next(iter(dataloader_train))\n",
    "print(f\"The tensor containing the images has shape: {example_images.shape} (batch size, number of color channels, height, width)\",\n",
    "      f\"The maximum value in the image is {example_images.max()}, minimum: {example_images.min()}\", sep=\"\\n\\t\")"
   ],
   "metadata": {
    "collapsed": false,
    "pycharm": {
     "name": "#%%\n"
    }
   }
  },
  {
   "cell_type": "code",
   "execution_count": null,
   "outputs": [],
   "source": [
    "def create_model():\n",
    "    \"\"\"\n",
    "        Initializes the mode. Edit the code below if you would like to change the model.\n",
    "    \"\"\"\n",
    "    model = nn.Sequential(\n",
    "        nn.Flatten(), # Flattens the image from shape (batch_size, C, Height, width) to (batch_size, C*height*width)\n",
    "        nn.Linear(28*28*1, 10)\n",
    "        # No need to include softmax, as this is already combined in the loss function\n",
    "    )\n",
    "    # Transfer model to GPU memory if a GPU is available\n",
    "    model = utils.to_cuda(model)\n",
    "    return model\n",
    "\n",
    "model = create_model()"
   ],
   "metadata": {
    "collapsed": false,
    "pycharm": {
     "name": "#%%\n"
    }
   }
  },
  {
   "cell_type": "code",
   "execution_count": null,
   "outputs": [],
   "source": [
    "# Test if the model is able to do a single forward pass\n",
    "example_images = utils.to_cuda(example_images)\n",
    "output = model(example_images)\n",
    "print(\"Output shape:\", output.shape)\n",
    "expected_shape = (batch_size, 10) # 10 since mnist has 10 different classes\n",
    "assert output.shape == expected_shape,    f\"Expected shape: {expected_shape}, but got: {output.shape}\""
   ],
   "metadata": {
    "collapsed": false,
    "pycharm": {
     "name": "#%%\n"
    }
   }
  },
  {
   "cell_type": "markdown",
   "source": [
    "### Hyperparameters & Loss function"
   ],
   "metadata": {
    "collapsed": false,
    "pycharm": {
     "name": "#%% md\n"
    }
   }
  },
  {
   "cell_type": "code",
   "execution_count": null,
   "outputs": [],
   "source": [
    "# Hyperparameters\n",
    "learning_rate = .0192\n",
    "num_epochs = 5\n",
    "\n",
    "# Use CrossEntropyLoss for multi-class classification\n",
    "loss_function = torch.nn.CrossEntropyLoss()\n",
    "\n",
    "# Define optimizer (Stochastic Gradient Descent)\n",
    "optimizer = torch.optim.SGD(model.parameters(),\n",
    "                            lr=learning_rate)"
   ],
   "metadata": {
    "collapsed": false,
    "pycharm": {
     "name": "#%%\n"
    }
   }
  },
  {
   "cell_type": "markdown",
   "source": [
    "### Train model"
   ],
   "metadata": {
    "collapsed": false,
    "pycharm": {
     "name": "#%% md\n"
    }
   }
  },
  {
   "cell_type": "code",
   "execution_count": null,
   "outputs": [],
   "source": [
    "trainer = Trainer(\n",
    "  model=model,\n",
    "  dataloader_train=dataloader_train,\n",
    "  dataloader_test=dataloader_test,\n",
    "  batch_size=batch_size,\n",
    "  loss_function=loss_function,\n",
    "  optimizer=optimizer\n",
    ")\n",
    "train_loss_dict, test_loss_dict = trainer.train(num_epochs)"
   ],
   "metadata": {
    "collapsed": false,
    "pycharm": {
     "name": "#%%\n"
    }
   }
  },
  {
   "cell_type": "code",
   "execution_count": null,
   "outputs": [],
   "source": [
    "# We can now plot the training loss with our utility script\n",
    "\n",
    "# Plot loss\n",
    "utils.plot_loss(train_loss_dict, label=\"Train Loss\")\n",
    "utils.plot_loss(test_loss_dict, label=\"Test Loss\")\n",
    "# Limit the y-axis of the plot (The range should not be increased!)\n",
    "plt.ylim([0, 1])\n",
    "plt.legend()\n",
    "plt.xlabel(\"Global Training Step\")\n",
    "plt.ylabel(\"Cross Entropy Loss\")\n",
    "plt.savefig(\"image_solutions/task_4a.png\")\n",
    "\n",
    "plt.show()\n",
    "\n",
    "torch.save(model.state_dict(), \"saved_model.torch\")\n",
    "final_loss, final_acc = utils.compute_loss_and_accuracy(\n",
    "    dataloader_test, model, loss_function)\n",
    "print(f\"Final Test loss: {final_loss}. Final Test accuracy: {final_acc}\")"
   ],
   "metadata": {
    "collapsed": false,
    "pycharm": {
     "name": "#%%\n"
    }
   }
  },
  {
   "cell_type": "markdown",
   "source": [
    "## Plotting example"
   ],
   "metadata": {
    "collapsed": false,
    "pycharm": {
     "name": "#%% md\n"
    }
   }
  },
  {
   "cell_type": "code",
   "execution_count": null,
   "outputs": [],
   "source": [
    "# You can delete the remaining code of this notebook, as this is just to illustrate one method to solve the assignment tasks.\n",
    "\n",
    "\n",
    "# This example code is here to illustrate how you can plot two different models to compare them.\n",
    "# Lets change a small part of our model: the number of epochs trained (NOTE, use 5 epochs for your experiments in the assignment.)\n",
    "\n",
    "# We reset the manual seed to 0, such that the model parameters are initialized with the same random number generator.\n",
    "torch.random.manual_seed(0)\n",
    "np.random.seed(0)\n",
    "\n",
    "\n",
    "dataloader_train, dataloader_test = dataloaders.load_dataset(batch_size, image_transform)\n",
    "model = create_model()\n",
    "\n",
    "learning_rate = .0192\n",
    "num_epochs = 6\n",
    "\n",
    "# Redefine optimizer, as we have a new model.\n",
    "optimizer = torch.optim.SGD(model.parameters(),\n",
    "                            lr=learning_rate)\n",
    "trainer = Trainer(\n",
    "  model=model,\n",
    "  dataloader_train=dataloader_train,\n",
    "  dataloader_test=dataloader_test,\n",
    "  batch_size=batch_size,\n",
    "  loss_function=loss_function,\n",
    "  optimizer=optimizer\n",
    ")\n",
    "train_loss_dict_6epochs, test_loss_dict_6epochs = trainer.train(num_epochs)\n",
    "num_epochs = 5"
   ],
   "metadata": {
    "collapsed": false,
    "pycharm": {
     "name": "#%%\n"
    }
   }
  },
  {
   "cell_type": "code",
   "execution_count": null,
   "outputs": [],
   "source": [
    "# We can now plot the two models against eachother\n",
    "\n",
    "# Plot loss\n",
    "utils.plot_loss(train_loss_dict_6epochs, label=\"Train Loss - Model trained with 6 epochs\")\n",
    "utils.plot_loss(test_loss_dict_6epochs, label=\"Test Loss - Model trained with 6 epochs\")\n",
    "utils.plot_loss(train_loss_dict, label=\"Train Loss - Original model\")\n",
    "utils.plot_loss(test_loss_dict, label=\"Test Loss - Original model\")\n",
    "# Limit the y-axis of the plot (The range should not be increased!)\n",
    "plt.ylim([0, 1])\n",
    "plt.legend()\n",
    "plt.xlabel(\"Global Training Step\")\n",
    "plt.ylabel(\"Cross Entropy Loss\")\n",
    "plt.savefig(\"image_solutions/task_4a.png\")\n",
    "\n",
    "plt.show()\n",
    "\n",
    "torch.save(model.state_dict(), \"saved_model.torch\")\n",
    "final_loss, final_acc = utils.compute_loss_and_accuracy(\n",
    "    dataloader_test, model, loss_function)\n",
    "print(f\"Final Test loss: {final_loss}. Final Test accuracy: {final_acc}\")"
   ],
   "metadata": {
    "collapsed": false,
    "pycharm": {
     "name": "#%%\n"
    }
   }
  },
  {
   "cell_type": "markdown",
   "source": [
    "### Task A\n",
    "Here we will create, train and test two dataset[original, normalized]"
   ],
   "metadata": {
    "collapsed": false,
    "pycharm": {
     "name": "#%% md\n"
    }
   }
  },
  {
   "cell_type": "code",
   "execution_count": null,
   "outputs": [],
   "source": [
    "#####ORIGINAL DATASET MODEL\n",
    "# We reset the manual seed to 0, such that the model parameters are initialized with the same random number generator.\n",
    "torch.random.manual_seed(0)\n",
    "np.random.seed(0)\n",
    "\n",
    "#Original Dataset\n",
    "image_transform = torchvision.transforms.Compose([\n",
    "    torchvision.transforms.ToTensor()\n",
    "    #torchvision.transforms.Normalize(mean = (0.5),std = (0.5))\n",
    "])\n",
    "dataloader_train, dataloader_test = dataloaders.load_dataset(batch_size, image_transform)\n",
    "\n",
    "#Model creation\n",
    "model = create_model()\n",
    "\n",
    "#Hyper parameter Selection\n",
    "learning_rate = .0192\n",
    "num_epochs = 5\n",
    "\n",
    "# Redefine optimizer, as we have a new model.\n",
    "optimizer = torch.optim.SGD(model.parameters(),\n",
    "                            lr=learning_rate)\n",
    "#Trainer for Original dataset\n",
    "trainer = Trainer(\n",
    "  model=model,\n",
    "  dataloader_train=dataloader_train,\n",
    "  dataloader_test=dataloader_test,\n",
    "  batch_size=batch_size,\n",
    "  loss_function=loss_function,\n",
    "  optimizer=optimizer\n",
    ")\n",
    "train_loss_dict_org, test_loss_dict_org = trainer.train(num_epochs)\n",
    "torch.save(model.state_dict(), \"saved_model.torch\")\n",
    "final_loss_org, final_acc_org = utils.compute_loss_and_accuracy(\n",
    "    dataloader_test, model, loss_function)"
   ],
   "metadata": {
    "collapsed": false,
    "pycharm": {
     "name": "#%%\n"
    }
   }
  },
  {
   "cell_type": "code",
   "execution_count": null,
   "outputs": [],
   "source": [
    "######NORMALIZED DATASET MODEL\n",
    "# We reset the manual seed to 0, such that the model parameters are initialized with the same random number generator.\n",
    "torch.random.manual_seed(0)\n",
    "np.random.seed(0)\n",
    "\n",
    "#Original Dataset\n",
    "image_transform = torchvision.transforms.Compose([\n",
    "    torchvision.transforms.ToTensor(),\n",
    "    torchvision.transforms.Normalize(mean = (0.5),std = (0.5))\n",
    "])\n",
    "dataloader_train, dataloader_test= dataloaders.load_dataset(batch_size, image_transform)\n",
    "\n",
    "#Model creation\n",
    "model = create_model()\n",
    "\n",
    "#Hyper parameter Selection\n",
    "learning_rate = .0192\n",
    "num_epochs = 5\n",
    "\n",
    "# Redefine optimizer, as we have a new model.\n",
    "optimizer = torch.optim.SGD(model.parameters(),\n",
    "                            lr=learning_rate)\n",
    "#Trainer for Original dataset\n",
    "trainer = Trainer(\n",
    "  model=model,\n",
    "  dataloader_train=dataloader_train,\n",
    "  dataloader_test=dataloader_test,\n",
    "  batch_size=batch_size,\n",
    "  loss_function=loss_function,\n",
    "  optimizer=optimizer\n",
    ")\n",
    "train_loss_dict_norm, test_loss_dict_norm = trainer.train(num_epochs)\n",
    "torch.save(model.state_dict(), \"saved_model.torch\")\n",
    "final_loss_norm, final_acc_norm = utils.compute_loss_and_accuracy(\n",
    "    dataloader_test, model, loss_function)"
   ],
   "metadata": {
    "collapsed": false,
    "pycharm": {
     "name": "#%%\n"
    }
   }
  },
  {
   "cell_type": "code",
   "execution_count": null,
   "outputs": [],
   "source": [
    "#Performence Visualization ORIGINAL vs NORMALIZED dataset:\n",
    "# We can now plot the two models against each other\n",
    "# Plot loss\n",
    "utils.plot_loss(train_loss_dict_org, label=\"Train Loss Org Dataset\")\n",
    "utils.plot_loss(test_loss_dict_org, label=\"Test Loss Org Dataset\")\n",
    "utils.plot_loss(train_loss_dict_norm, label=\"Train Loss Norm dataset\")\n",
    "utils.plot_loss(test_loss_dict_norm, label=\"Test Loss Norm dataset\")\n",
    "# Limit the y-axis of the plot (The range should not be increased!)\n",
    "plt.ylim([0, 1])\n",
    "plt.legend()\n",
    "plt.xlabel(\"Global Training Step\")\n",
    "plt.ylabel(\"Cross Entropy Loss\")\n",
    "plt.savefig(\"image_solutions/task_4a.png\")\n",
    "plt.show()\n",
    "print(f\"Final Test loss Original Dataset: {final_loss_org}. Final Test accuracy Original Dataset: {final_acc_org}\")\n",
    "print(f\"Final Test loss Normalized Dataset: {final_loss_norm}. Final Test accuracy Normalized Dataset: {final_acc_norm}\")"
   ],
   "metadata": {
    "collapsed": false,
    "pycharm": {
     "name": "#%%\n"
    }
   }
  },
  {
   "cell_type": "markdown",
   "source": [
    "### Task B\n",
    "Visualizing the Learned Model Weights"
   ],
   "metadata": {
    "collapsed": false,
    "pycharm": {
     "name": "#%% md\n"
    }
   }
  },
  {
   "cell_type": "code",
   "execution_count": null,
   "outputs": [],
   "source": [
    "import math\n",
    "#Accessing weight values and detaching from GPU to CPU\n",
    "weight = list(model.children())[1].weight.cpu().data\n",
    "#Getting Reshaping factor\n",
    "size = weight.size()\n",
    "root = int(math.sqrt(size[1]))\n",
    "#Iterating over 10 digits visualize and save them\n",
    "for idx in range(len(weight)):\n",
    "    #Tensor to numpy then reshape to 28*28 mat\n",
    "    weight_show = weight[idx].numpy().reshape(root,root)\n",
    "    #Visualize\n",
    "    plt.imshow(weight_show)\n",
    "    plt.show()\n",
    "    #Image save\n",
    "    fname = \"image_solutions/\" + str(idx) +\".jpg\"\n",
    "    plt.imsave(fname,weight_show)"
   ],
   "metadata": {
    "collapsed": false,
    "pycharm": {
     "name": "#%%\n"
    }
   }
  },
  {
   "cell_type": "markdown",
   "source": [
    "### Task C\n",
    "Now lets Change the Learning rate to lr = 1.0"
   ],
   "metadata": {
    "collapsed": false,
    "pycharm": {
     "name": "#%% md\n"
    }
   }
  },
  {
   "cell_type": "code",
   "execution_count": null,
   "outputs": [],
   "source": [
    "# We reset the manual seed to 0, such that the model parameters are initialized with the same random number generator.\n",
    "torch.random.manual_seed(0)\n",
    "np.random.seed(0)\n",
    "\n",
    "#Normalized dataset\n",
    "image_transform = torchvision.transforms.Compose([\n",
    "    torchvision.transforms.ToTensor(),\n",
    "    torchvision.transforms.Normalize(mean = (0.5),std = (0.5))\n",
    "])\n",
    "dataloader_train, dataloader_test = dataloaders.load_dataset(batch_size, image_transform)\n",
    "\n",
    "#Model creation\n",
    "model = create_model()\n",
    "\n",
    "#Hyper parameter Selection\n",
    "learning_rate = .0192\n",
    "num_epochs = 5\n",
    "\n",
    "# Redefine optimizer, as we have a new model.\n",
    "optimizer = torch.optim.SGD(model.parameters(),\n",
    "                            lr=learning_rate)\n",
    "#Trainer for Original Learning rate\n",
    "trainer = Trainer(\n",
    "  model=model,\n",
    "  dataloader_train=dataloader_train,\n",
    "  dataloader_test=dataloader_test,\n",
    "  batch_size=batch_size,\n",
    "  loss_function=loss_function,\n",
    "  optimizer=optimizer\n",
    ")\n",
    "train_loss_dict_org, test_loss_dict_org = trainer.train(num_epochs)\n",
    "final_loss_org, final_acc_org = utils.compute_loss_and_accuracy(\n",
    "    dataloader_test, model, loss_function)"
   ],
   "metadata": {
    "collapsed": false,
    "pycharm": {
     "name": "#%%\n"
    }
   }
  },
  {
   "cell_type": "code",
   "execution_count": null,
   "outputs": [],
   "source": [
    "# We reset the manual seed to 0, such that the model parameters are initialized with the same random number generator.\n",
    "torch.random.manual_seed(0)\n",
    "np.random.seed(0)\n",
    "\n",
    "#Normalized dataset\n",
    "image_transform = torchvision.transforms.Compose([\n",
    "    torchvision.transforms.ToTensor(),\n",
    "    torchvision.transforms.Normalize(mean = (0.5),std = (0.5))\n",
    "])\n",
    "dataloader_train, dataloader_test = dataloaders.load_dataset(batch_size, image_transform)\n",
    "\n",
    "#Model creation\n",
    "model = create_model()\n",
    "\n",
    "#Hyper parameter Selection\n",
    "learning_rate = 1.0\n",
    "num_epochs = 5\n",
    "\n",
    "# Redefine optimizer, as we have a new model.\n",
    "optimizer = torch.optim.SGD(model.parameters(),\n",
    "                            lr=learning_rate)\n",
    "#Trainer for Original Learning rate\n",
    "trainer = Trainer(\n",
    "  model=model,\n",
    "  dataloader_train=dataloader_train,\n",
    "  dataloader_test=dataloader_test,\n",
    "  batch_size=batch_size,\n",
    "  loss_function=loss_function,\n",
    "  optimizer=optimizer\n",
    ")\n",
    "train_loss_dict_one, test_loss_dict_one = trainer.train(num_epochs)\n",
    "final_loss_one, final_acc_one = utils.compute_loss_and_accuracy(\n",
    "    dataloader_test, model, loss_function)"
   ],
   "metadata": {
    "collapsed": false,
    "pycharm": {
     "name": "#%%\n"
    }
   }
  },
  {
   "cell_type": "code",
   "execution_count": null,
   "outputs": [],
   "source": [
    "#Performence Visualization ORIGINAL vs lr = 1.0 optimizer:\n",
    "# We can now plot the two models against each other\n",
    "# Plot loss\n",
    "utils.plot_loss(train_loss_dict_org, label=\"Train Loss lr .0192\")\n",
    "utils.plot_loss(test_loss_dict_org, label=\"Test Loss lr .0192\")\n",
    "utils.plot_loss(train_loss_dict_one, label=\"Train Loss lr 1.0\")\n",
    "utils.plot_loss(test_loss_dict_one, label=\"Test Loss lr 1.0\")\n",
    "# Limit the y-axis of the plot (The range should not be increased!)\n",
    "plt.ylim([0, 10])\n",
    "plt.legend()\n",
    "plt.xlabel(\"Global Training Step\")\n",
    "plt.ylabel(\"Cross Entropy Loss\")\n",
    "plt.savefig(\"image_solutions/task_4c.png\")\n",
    "plt.show()\n",
    "\n",
    "torch.save(model.state_dict(), \"saved_model.torch\")\n",
    "print(f\"Final Test loss for lr 1.0: {final_loss_org}. Final Test accuracy for lr 0.0192: {final_acc_org}\")\n",
    "print(f\"Final Test loss for lr 1.0: {final_loss_one}. Final Test accuracy for lr 1.0: {final_acc_one}\")"
   ],
   "metadata": {
    "collapsed": false,
    "pycharm": {
     "name": "#%%\n"
    }
   }
  },
  {
   "cell_type": "markdown",
   "source": [
    "### Task D\n",
    "In This Part we will introduce another hidden layer to the model"
   ],
   "metadata": {
    "collapsed": false,
    "pycharm": {
     "name": "#%% md\n"
    }
   }
  },
  {
   "cell_type": "code",
   "execution_count": null,
   "outputs": [],
   "source": [
    "# We reset the manual seed to 0, such that the model parameters are initialized with the same random number generator.\n",
    "torch.random.manual_seed(0)\n",
    "np.random.seed(0)\n",
    "\n",
    "#Normalized dataset\n",
    "image_transform = torchvision.transforms.Compose([\n",
    "    torchvision.transforms.ToTensor(),\n",
    "    torchvision.transforms.Normalize(mean = (0.5),std = (0.5))\n",
    "])\n",
    "dataloader_train, dataloader_test = dataloaders.load_dataset(batch_size, image_transform)\n",
    "\n",
    "#Model creation\n",
    "model = create_model()\n",
    "\n",
    "#Hyper parameter Selection\n",
    "learning_rate = .0192\n",
    "num_epochs = 5\n",
    "\n",
    "# Redefine optimizer, as we have a new model.\n",
    "optimizer = torch.optim.SGD(model.parameters(),\n",
    "                            lr=learning_rate)\n",
    "#Trainer for Original Learning rate\n",
    "trainer = Trainer(\n",
    "  model=model,\n",
    "  dataloader_train=dataloader_train,\n",
    "  dataloader_test=dataloader_test,\n",
    "  batch_size=batch_size,\n",
    "  loss_function=loss_function,\n",
    "  optimizer=optimizer\n",
    ")\n",
    "train_loss_dict_org, test_loss_dict_org = trainer.train(num_epochs)\n",
    "final_loss_org, final_acc_org = utils.compute_loss_and_accuracy(\n",
    "    dataloader_test, model, loss_function)"
   ],
   "metadata": {
    "collapsed": false,
    "pycharm": {
     "name": "#%%\n"
    }
   }
  },
  {
   "cell_type": "code",
   "execution_count": null,
   "outputs": [],
   "source": [
    "# We reset the manual seed to 0, such that the model parameters are initialized with the same random number generator.\n",
    "torch.random.manual_seed(0)\n",
    "np.random.seed(0)\n",
    "\n",
    "#Normalized dataset\n",
    "image_transform = torchvision.transforms.Compose([\n",
    "    torchvision.transforms.ToTensor(),\n",
    "    torchvision.transforms.Normalize(mean = (0.5),std = (0.5))\n",
    "])\n",
    "dataloader_train, dataloader_test = dataloaders.load_dataset(batch_size, image_transform)\n",
    "\n",
    "#Model Creation and Training\n",
    "def create_model2():\n",
    "    \"\"\"\n",
    "        Initializes the mode. Edit the code below if you would like to change the model.\n",
    "    \"\"\"\n",
    "    model = nn.Sequential(\n",
    "        nn.Flatten(), # Flattens the image from shape (batch_size, C, Height, width) to (batch_size, C*height*width)\n",
    "        nn.Linear(28*28*1,64),#Hidden layer with 64 out features node\n",
    "        nn.ReLU(), #Activation function\n",
    "        nn.Linear(64, 10) #Output layer\n",
    "        # No need to include softmax, as this is already combined in the loss function\n",
    "    )\n",
    "    # Transfer model to GPU memory if a GPU is available\n",
    "    model = utils.to_cuda(model)\n",
    "    return model\n",
    "\n",
    "#Model creation\n",
    "model = create_model2()\n",
    "\n",
    "#Hyper parameter Selection\n",
    "learning_rate = .0192\n",
    "num_epochs = 5\n",
    "\n",
    "# Redefine optimizer, as we have a new model.\n",
    "optimizer = torch.optim.SGD(model.parameters(),\n",
    "                            lr=learning_rate)\n",
    "#Trainer for Original Learning rate\n",
    "trainer = Trainer(\n",
    "  model=model,\n",
    "  dataloader_train=dataloader_train,\n",
    "  dataloader_test=dataloader_test,\n",
    "  batch_size=batch_size,\n",
    "  loss_function=loss_function,\n",
    "  optimizer=optimizer\n",
    ")\n",
    "train_loss_dict_new, test_loss_dict_new = trainer.train(num_epochs)\n",
    "final_loss_new, final_acc_new = utils.compute_loss_and_accuracy(\n",
    "    dataloader_test, model, loss_function)"
   ],
   "metadata": {
    "collapsed": false,
    "pycharm": {
     "name": "#%%\n"
    }
   }
  },
  {
   "cell_type": "code",
   "execution_count": null,
   "outputs": [],
   "source": [
    "#Performence Visualization model one vs model two:\n",
    "# We can now plot the two models against each other\n",
    "# Plot loss\n",
    "utils.plot_loss(train_loss_dict_org, label=\"Train Loss model one\")\n",
    "utils.plot_loss(test_loss_dict_org, label=\"Test Loss model one\")\n",
    "utils.plot_loss(train_loss_dict_new, label=\"Train Loss model two\")\n",
    "utils.plot_loss(test_loss_dict_new, label=\"Test Loss model two\")\n",
    "# Limit the y-axis of the plot (The range should not be increased!)\n",
    "plt.ylim([0, 1])\n",
    "plt.legend()\n",
    "plt.xlabel(\"Global Training Step\")\n",
    "plt.ylabel(\"Cross Entropy Loss\")\n",
    "plt.savefig(\"image_solutions/task_4d.png\")\n",
    "plt.show()\n",
    "\n",
    "torch.save(model.state_dict(), \"saved_model_new.torch\")\n",
    "print(f\"Final Test loss for model one: {final_loss_org}. Final Test accuracy for model one: {final_acc_org}\")\n",
    "print(f\"Final Test loss for model two: {final_loss_new}. Final Test accuracy for model two: {final_acc_new}\")"
   ],
   "metadata": {
    "collapsed": false,
    "pycharm": {
     "name": "#%%\n"
    }
   }
  },
  {
   "cell_type": "markdown",
   "metadata": {
    "pycharm": {
     "name": "#%% md\n"
    }
   },
   "source": [
    "### Task B\n",
    "Visualizing the Learned Model Weights"
   ]
  },
  {
   "cell_type": "code",
   "execution_count": 13,
   "outputs": [
    {
     "data": {
      "text/plain": "<Figure size 432x288 with 1 Axes>",
      "image/png": "[encoded data removed]"
     },
     "metadata": {
      "needs_background": "light"
     },
     "output_type": "display_data"
    },
    {
     "data": {
      "text/plain": "<Figure size 432x288 with 1 Axes>",
      "image/png": "[encoded data removed]"
     },
     "metadata": {
      "needs_background": "light"
     },
     "output_type": "display_data"
    },
    {
     "data": {
      "text/plain": "<Figure size 432x288 with 1 Axes>",
      "image/png": "[encoded data removed]"
     },
     "metadata": {
      "needs_background": "light"
     },
     "output_type": "display_data"
    },
    {
     "data": {
      "text/plain": "<Figure size 432x288 with 1 Axes>",
      "image/png": "[encoded data removed]"
     },
     "metadata": {
      "needs_background": "light"
     },
     "output_type": "display_data"
    },
    {
     "data": {
      "text/plain": "<Figure size 432x288 with 1 Axes>",
      "image/png": "[encoded data removed]"
     },
     "metadata": {
      "needs_background": "light"
     },
     "output_type": "display_data"
    },
    {
     "data": {
      "text/plain": "<Figure size 432x288 with 1 Axes>",
      "image/png": "[encoded data removed]"
     },
     "metadata": {
      "needs_background": "light"
     },
     "output_type": "display_data"
    },
    {
     "data": {
      "text/plain": "<Figure size 432x288 with 1 Axes>",
      "image/png": "[encoded data removed]"
     },
     "metadata": {
      "needs_background": "light"
     },
     "output_type": "display_data"
    },
    {
     "data": {
      "text/plain": "<Figure size 432x288 with 1 Axes>",
      "image/png": "[encoded data removed]"
     },
     "metadata": {
      "needs_background": "light"
     },
     "output_type": "display_data"
    },
    {
     "data": {
      "text/plain": "<Figure size 432x288 with 1 Axes>",
      "image/png": "[encoded data removed]"
     },
     "metadata": {
      "needs_background": "light"
     },
     "output_type": "display_data"
    },
    {
     "data": {
      "text/plain": "<Figure size 432x288 with 1 Axes>",
      "image/png": "[encoded data removed]"
     },
     "metadata": {
      "needs_background": "light"
     },
     "output_type": "display_data"
    }
   ],
   "source": [
    "import math\n",
    "#Accessing weight values and detaching from GPU to CPU\n",
    "weight = list(model.children())[1].weight.cpu().data\n",
    "#Getting Reshaping factor\n",
    "size = weight.size()\n",
    "root = int(math.sqrt(size[1]))\n",
    "#Iterating over 10 digits visualize and save them\n",
    "for idx in range(len(weight)):\n",
    "    #Tensor to numpy then reshape to 28*28 mat\n",
    "    weight_show = weight[idx].numpy().reshape(root,root)\n",
    "    #Visualize\n",
    "    plt.imshow(weight_show)\n",
    "    plt.show()\n",
    "    #Image save\n",
    "    fname = \"image_solutions/\" + str(idx) +\".jpg\"\n",
    "    plt.imsave(fname,weight_show)"
   ],
   "metadata": {
    "collapsed": false,
    "pycharm": {
     "name": "#%%\n"
    }
   }
  },
  {
   "cell_type": "markdown",
   "metadata": {
    "pycharm": {
     "name": "#%% md\n"
    }
   },
   "source": [
    "### Task C\n",
    "Now lets Change the Learning rate to lr = 1.0"
   ]
  },
  {
   "cell_type": "code",
   "execution_count": 14,
   "outputs": [
    {
     "name": "stderr",
     "output_type": "stream",
     "text": [
      "Training epoch 0: 100%|██████████| 938/938 [00:06<00:00, 151.94it/s]\n",
      "Training epoch 1: 100%|██████████| 938/938 [00:06<00:00, 142.82it/s]\n",
      "Training epoch 2: 100%|██████████| 938/938 [00:06<00:00, 145.34it/s]\n",
      "Training epoch 3: 100%|██████████| 938/938 [00:06<00:00, 143.71it/s]\n",
      "Training epoch 4: 100%|██████████| 938/938 [00:06<00:00, 152.93it/s]\n"
     ]
    }
   ],
   "source": [
    "# We reset the manual seed to 0, such that the model parameters are initialized with the same random number generator.\n",
    "torch.random.manual_seed(0)\n",
    "np.random.seed(0)\n",
    "\n",
    "#Normalized dataset\n",
    "image_transform = torchvision.transforms.Compose([\n",
    "    torchvision.transforms.ToTensor(),\n",
    "    torchvision.transforms.Normalize(mean = (0.5),std = (0.5))\n",
    "])\n",
    "dataloader_train, dataloader_test = dataloaders.load_dataset(batch_size, image_transform)\n",
    "\n",
    "#Model creation\n",
    "model = create_model()\n",
    "\n",
    "#Hyper parameter Selection\n",
    "learning_rate = .0192\n",
    "num_epochs = 5\n",
    "\n",
    "# Redefine optimizer, as we have a new model.\n",
    "optimizer = torch.optim.SGD(model.parameters(),\n",
    "                            lr=learning_rate)\n",
    "#Trainer for Original Learning rate\n",
    "trainer = Trainer(\n",
    "  model=model,\n",
    "  dataloader_train=dataloader_train,\n",
    "  dataloader_test=dataloader_test,\n",
    "  batch_size=batch_size,\n",
    "  loss_function=loss_function,\n",
    "  optimizer=optimizer\n",
    ")\n",
    "train_loss_dict_org, test_loss_dict_org = trainer.train(num_epochs)\n",
    "final_loss_org, final_acc_org = utils.compute_loss_and_accuracy(\n",
    "    dataloader_test, model, loss_function)"
   ],
   "metadata": {
    "collapsed": false,
    "pycharm": {
     "name": "#%%\n"
    }
   }
  },
  {
   "cell_type": "code",
   "execution_count": 15,
   "outputs": [
    {
     "name": "stderr",
     "output_type": "stream",
     "text": [
      "Training epoch 0: 100%|██████████| 938/938 [00:06<00:00, 151.96it/s]\n",
      "Training epoch 1: 100%|██████████| 938/938 [00:06<00:00, 149.26it/s]\n",
      "Training epoch 2: 100%|██████████| 938/938 [00:06<00:00, 153.12it/s]\n",
      "Training epoch 3: 100%|██████████| 938/938 [00:06<00:00, 152.96it/s]\n",
      "Training epoch 4: 100%|██████████| 938/938 [00:06<00:00, 146.98it/s]\n"
     ]
    }
   ],
   "source": [
    "# We reset the manual seed to 0, such that the model parameters are initialized with the same random number generator.\n",
    "torch.random.manual_seed(0)\n",
    "np.random.seed(0)\n",
    "\n",
    "#Normalized dataset\n",
    "image_transform = torchvision.transforms.Compose([\n",
    "    torchvision.transforms.ToTensor(),\n",
    "    torchvision.transforms.Normalize(mean = (0.5),std = (0.5))\n",
    "])\n",
    "dataloader_train, dataloader_test = dataloaders.load_dataset(batch_size, image_transform)\n",
    "\n",
    "#Model creation\n",
    "model = create_model()\n",
    "\n",
    "#Hyper parameter Selection\n",
    "learning_rate = 1.0\n",
    "num_epochs = 5\n",
    "\n",
    "# Redefine optimizer, as we have a new model.\n",
    "optimizer = torch.optim.SGD(model.parameters(),\n",
    "                            lr=learning_rate)\n",
    "#Trainer for Original Learning rate\n",
    "trainer = Trainer(\n",
    "  model=model,\n",
    "  dataloader_train=dataloader_train,\n",
    "  dataloader_test=dataloader_test,\n",
    "  batch_size=batch_size,\n",
    "  loss_function=loss_function,\n",
    "  optimizer=optimizer\n",
    ")\n",
    "train_loss_dict_one, test_loss_dict_one = trainer.train(num_epochs)\n",
    "final_loss_one, final_acc_one = utils.compute_loss_and_accuracy(\n",
    "    dataloader_test, model, loss_function)"
   ],
   "metadata": {
    "collapsed": false,
    "pycharm": {
     "name": "#%%\n"
    }
   }
  },
  {
   "cell_type": "code",
   "execution_count": 16,
   "outputs": [
    {
     "data": {
      "text/plain": "<Figure size 432x288 with 1 Axes>",
      "image/png": "[encoded data removed]"
     },
     "metadata": {
      "needs_background": "light"
     },
     "output_type": "display_data"
    },
    {
     "name": "stdout",
     "output_type": "stream",
     "text": [
      "Final Test loss for lr 1.0: 0.2939866229203666. Final Test accuracy for lr 1.0: 0.9164\n",
      "Final Test loss for lr 1.0: 5.1604970629048195. Final Test accuracy for lr 1.0: 0.7901\n"
     ]
    }
   ],
   "source": [
    "#Performence Visualization ORIGINAL vs lr = 1.0 optimizer:\n",
    "# We can now plot the two models against each other\n",
    "# Plot loss\n",
    "utils.plot_loss(train_loss_dict_org, label=\"Train Loss lr .0192\")\n",
    "utils.plot_loss(test_loss_dict_org, label=\"Test Loss lr .0192\")\n",
    "utils.plot_loss(train_loss_dict_one, label=\"Train Loss lr 1.0\")\n",
    "utils.plot_loss(test_loss_dict_one, label=\"Test Loss lr 1.0\")\n",
    "# Limit the y-axis of the plot (The range should not be increased!)\n",
    "plt.ylim([0, 10])\n",
    "plt.legend()\n",
    "plt.xlabel(\"Global Training Step\")\n",
    "plt.ylabel(\"Cross Entropy Loss\")\n",
    "plt.savefig(\"image_solutions/task_4c.png\")\n",
    "plt.show()\n",
    "\n",
    "torch.save(model.state_dict(), \"saved_model.torch\")\n",
    "print(f\"Final Test loss for lr 1.0: {final_loss_org}. Final Test accuracy for lr 0.0192: {final_acc_org}\")\n",
    "print(f\"Final Test loss for lr 1.0: {final_loss_one}. Final Test accuracy for lr 1.0: {final_acc_one}\")"
   ],
   "metadata": {
    "collapsed": false,
    "pycharm": {
     "name": "#%%\n"
    }
   }
  },
  {
   "cell_type": "markdown",
   "source": [
    "### Task D\n",
    "In This Part we will introduce another hidden layer to the model"
   ],
   "metadata": {
    "collapsed": false,
    "pycharm": {
     "name": "#%% md\n"
    }
   }
  },
  {
   "cell_type": "code",
   "execution_count": 17,
   "outputs": [
    {
     "name": "stderr",
     "output_type": "stream",
     "text": [
      "Training epoch 0: 100%|██████████| 938/938 [00:06<00:00, 154.10it/s]\n",
      "Training epoch 1: 100%|██████████| 938/938 [00:06<00:00, 153.43it/s]\n",
      "Training epoch 2: 100%|██████████| 938/938 [00:06<00:00, 155.82it/s]\n",
      "Training epoch 3: 100%|██████████| 938/938 [00:05<00:00, 156.59it/s]\n",
      "Training epoch 4: 100%|██████████| 938/938 [00:06<00:00, 151.85it/s]\n"
     ]
    }
   ],
   "source": [
    "# We reset the manual seed to 0, such that the model parameters are initialized with the same random number generator.\n",
    "torch.random.manual_seed(0)\n",
    "np.random.seed(0)\n",
    "\n",
    "#Normalized dataset\n",
    "image_transform = torchvision.transforms.Compose([\n",
    "    torchvision.transforms.ToTensor(),\n",
    "    torchvision.transforms.Normalize(mean = (0.5),std = (0.5))\n",
    "])\n",
    "dataloader_train, dataloader_test = dataloaders.load_dataset(batch_size, image_transform)\n",
    "\n",
    "#Model creation\n",
    "model = create_model()\n",
    "\n",
    "#Hyper parameter Selection\n",
    "learning_rate = .0192\n",
    "num_epochs = 5\n",
    "\n",
    "# Redefine optimizer, as we have a new model.\n",
    "optimizer = torch.optim.SGD(model.parameters(),\n",
    "                            lr=learning_rate)\n",
    "#Trainer for Original Learning rate\n",
    "trainer = Trainer(\n",
    "  model=model,\n",
    "  dataloader_train=dataloader_train,\n",
    "  dataloader_test=dataloader_test,\n",
    "  batch_size=batch_size,\n",
    "  loss_function=loss_function,\n",
    "  optimizer=optimizer\n",
    ")\n",
    "train_loss_dict_org, test_loss_dict_org = trainer.train(num_epochs)\n",
    "final_loss_org, final_acc_org = utils.compute_loss_and_accuracy(\n",
    "    dataloader_test, model, loss_function)"
   ],
   "metadata": {
    "collapsed": false,
    "pycharm": {
     "name": "#%%\n"
    }
   }
  },
  {
   "cell_type": "code",
   "execution_count": 18,
   "outputs": [
    {
     "name": "stderr",
     "output_type": "stream",
     "text": [
      "Training epoch 0: 100%|██████████| 938/938 [00:06<00:00, 150.88it/s]\n",
      "Training epoch 1: 100%|██████████| 938/938 [00:06<00:00, 148.05it/s]\n",
      "Training epoch 2: 100%|██████████| 938/938 [00:06<00:00, 141.51it/s]\n",
      "Training epoch 3: 100%|██████████| 938/938 [00:06<00:00, 150.60it/s]\n",
      "Training epoch 4: 100%|██████████| 938/938 [00:06<00:00, 150.60it/s]\n"
     ]
    }
   ],
   "source": [
    "# We reset the manual seed to 0, such that the model parameters are initialized with the same random number generator.\n",
    "torch.random.manual_seed(0)\n",
    "np.random.seed(0)\n",
    "\n",
    "#Normalized dataset\n",
    "image_transform = torchvision.transforms.Compose([\n",
    "    torchvision.transforms.ToTensor(),\n",
    "    torchvision.transforms.Normalize(mean = (0.5),std = (0.5))\n",
    "])\n",
    "dataloader_train, dataloader_test = dataloaders.load_dataset(batch_size, image_transform)\n",
    "\n",
    "#Model Creation and Training\n",
    "def create_model2():\n",
    "    \"\"\"\n",
    "        Initializes the mode. Edit the code below if you would like to change the model.\n",
    "    \"\"\"\n",
    "    model = nn.Sequential(\n",
    "        nn.Flatten(), # Flattens the image from shape (batch_size, C, Height, width) to (batch_size, C*height*width)\n",
    "        nn.Linear(28*28*1,64),#Hidden layer with 64 out features node\n",
    "        nn.ReLU(), #Activation function\n",
    "        nn.Linear(64, 10) #Output layer\n",
    "        # No need to include softmax, as this is already combined in the loss function\n",
    "    )\n",
    "    # Transfer model to GPU memory if a GPU is available\n",
    "    model = utils.to_cuda(model)\n",
    "    return model\n",
    "\n",
    "#Model creation\n",
    "model = create_model2()\n",
    "\n",
    "#Hyper parameter Selection\n",
    "learning_rate = .0192\n",
    "num_epochs = 5\n",
    "\n",
    "# Redefine optimizer, as we have a new model.\n",
    "optimizer = torch.optim.SGD(model.parameters(),\n",
    "                            lr=learning_rate)\n",
    "#Trainer for Original Learning rate\n",
    "trainer = Trainer(\n",
    "  model=model,\n",
    "  dataloader_train=dataloader_train,\n",
    "  dataloader_test=dataloader_test,\n",
    "  batch_size=batch_size,\n",
    "  loss_function=loss_function,\n",
    "  optimizer=optimizer\n",
    ")\n",
    "train_loss_dict_new, test_loss_dict_new = trainer.train(num_epochs)\n",
    "final_loss_new, final_acc_new = utils.compute_loss_and_accuracy(\n",
    "    dataloader_test, model, loss_function)"
   ],
   "metadata": {
    "collapsed": false,
    "pycharm": {
     "name": "#%%\n"
    }
   }
  },
  {
   "cell_type": "code",
   "execution_count": 19,
   "outputs": [
    {
     "data": {
      "text/plain": "<Figure size 432x288 with 1 Axes>",
      "image/png": "[encoded data removed]"
     },
     "metadata": {
      "needs_background": "light"
     },
     "output_type": "display_data"
    },
    {
     "name": "stdout",
     "output_type": "stream",
     "text": [
      "Final Test loss for model one: 0.2939866229203666. Final Test accuracy for model one: 0.9164\n",
      "Final Test loss for model two: 0.2170549741275846. Final Test accuracy for model two: 0.9373\n"
     ]
    }
   ],
   "source": [
    "#Performence Visualization model one vs model two:\n",
    "# We can now plot the two models against each other\n",
    "# Plot loss\n",
    "utils.plot_loss(train_loss_dict_org, label=\"Train Loss model one\")\n",
    "utils.plot_loss(test_loss_dict_org, label=\"Test Loss model one\")\n",
    "utils.plot_loss(train_loss_dict_new, label=\"Train Loss model two\")\n",
    "utils.plot_loss(test_loss_dict_new, label=\"Test Loss model two\")\n",
    "# Limit the y-axis of the plot (The range should not be increased!)\n",
    "plt.ylim([0, 1])\n",
    "plt.legend()\n",
    "plt.xlabel(\"Global Training Step\")\n",
    "plt.ylabel(\"Cross Entropy Loss\")\n",
    "plt.savefig(\"image_solutions/task_4d.png\")\n",
    "plt.show()\n",
    "\n",
    "torch.save(model.state_dict(), \"saved_model_new.torch\")\n",
    "print(f\"Final Test loss for model one: {final_loss_org}. Final Test accuracy for model one: {final_acc_org}\")\n",
    "print(f\"Final Test loss for model two: {final_loss_new}. Final Test accuracy for model two: {final_acc_new}\")"
   ],
   "metadata": {
    "collapsed": false,
    "pycharm": {
     "name": "#%%\n"
    }
   }
  }
 ],
 "metadata": {},
 "nbformat": 4,
 "nbformat_minor": 4
}