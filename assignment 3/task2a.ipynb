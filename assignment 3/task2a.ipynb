{
 "cells": [
  {
   "cell_type": "code",
   "execution_count": 15,
   "metadata": {
    "pycharm": {
     "name": "#%%\n"
    }
   },
   "outputs": [],
   "source": [
    "import numpy as np\n",
    "import skimage\n",
    "import utils\n",
    "import pathlib\n",
    "import matplotlib.pyplot as plt\n",
    "import math"
   ]
  },
  {
   "cell_type": "code",
   "execution_count": 227,
   "metadata": {
    "pycharm": {
     "name": "#%%\n"
    }
   },
   "outputs": [],
   "source": [
    "def otsu_thresholding(im: np.ndarray) -> int:\n",
    "    \"\"\"\n",
    "        Otsu's thresholding algorithm that segments an image into 1 or 0 (True or False)\n",
    "        The function takes in a grayscale image and outputs a threshold value\n",
    "\n",
    "        args:\n",
    "            im: np.ndarray of shape (H, W) in the range [0, 255] (dtype=np.uint8)\n",
    "        return:\n",
    "            (int) the computed thresholding value\n",
    "    \"\"\"\n",
    "    assert im.dtype == np.uint8\n",
    "    ### START YOUR CODE HERE ### (You can change anything inside this block) \n",
    "    # You can also define other helper functions\n",
    "    #Step one: Normalized Histogram\n",
    "    def norm_hist(im):\n",
    "        low = 0\n",
    "        high = 255\n",
    "        bins = np.linspace(low, high, high - low + 1)\n",
    "        hist, bin_edges = np.histogram(im,bins=bins, density=True)\n",
    "        hist_norm = hist*np.diff(bin_edges)\n",
    "        return hist_norm\n",
    "    #Step Two: Cumulative Sum\n",
    "    def cum_sum(hist,threshold):\n",
    "        p1 = hist[0:threshold].sum()\n",
    "        p2 = hist[threshold:len(hist)].sum()\n",
    "        return p1,p2\n",
    "    #Step Three: Cumulative Means\n",
    "    def cum_mean(hist,threshold):\n",
    "        m1 = np.sum(hist[0:threshold]*np.arange(0,threshold,1))\n",
    "        m2 = np.sum(hist[threshold:len(hist)]*np.arange(threshold,len(hist),1))\n",
    "        return m1, m2\n",
    "    #Step Four: Global Means\n",
    "    def global_mean(hist):\n",
    "        return (hist*np.arange(0,len(hist),1)).sum()\n",
    "    #Step Five: Between class variance\n",
    "    def between_class_var(mg, m1, p1):\n",
    "        variance = ((mg*p1)-m1)**2/(p1*(1-p1))\n",
    "        return variance\n",
    "\n",
    "    # Compute normalized histogram\n",
    "    #Normalized Histogram\n",
    "    hist = norm_hist(im)\n",
    "    #Global Means\n",
    "    mg = global_mean(hist)\n",
    "    #Dictionary to store Threshold value and respective Between class variance\n",
    "    var_dict = {}\n",
    "    #Iterating over threshold values\n",
    "    for x in range(1, len(hist)):\n",
    "        p1, p2 = cum_sum(hist, x)\n",
    "        #If p1 is valid, other wise we will get invalid values for zero division\n",
    "        if 0<p1<1:\n",
    "            #Cumulative mean\n",
    "            m1, m2 = cum_mean(hist, x)\n",
    "            #Between class variance\n",
    "            var = between_class_var(mg, m1, p1)\n",
    "            #Storing variance value\n",
    "            var_dict[x] = var\n",
    "    #Sorting dictionary from maximum to minimum values\n",
    "    var_list_sorted = sorted(var_dict.items(), key=lambda x: x[1], reverse=True)\n",
    "    #Listing thresholds of max variance values\n",
    "    max_list = [k for k,v in var_list_sorted if v == var_list_sorted[0][1]]\n",
    "    #Average of max threshold values\n",
    "    optimal_threshold = sum(max_list)/len(max_list)\n",
    "\n",
    "    return optimal_threshold\n",
    "    ### END YOUR CODE HERE ###"
   ]
  },
  {
   "cell_type": "code",
   "execution_count": 228,
   "outputs": [
    {
     "name": "stdout",
     "output_type": "stream",
     "text": [
      "Reading image: images/thumbprint.png\n",
      "Found optimal threshold: 154.0\n",
      "Saving image to: image_processed/thumbprint-segmented.png\n",
      "Reading image: images/polymercell.png\n",
      "Found optimal threshold: 182.0\n",
      "Saving image to: image_processed/polymercell-segmented.png\n"
     ]
    }
   ],
   "source": [
    "if __name__ == \"__main__\":\n",
    "    # DO NOT CHANGE\n",
    "    impaths_to_segment = [\n",
    "        pathlib.Path(\"thumbprint.png\"),\n",
    "        pathlib.Path(\"polymercell.png\")\n",
    "    ]\n",
    "    for impath in impaths_to_segment:\n",
    "        im = utils.read_image(impath)\n",
    "        threshold = otsu_thresholding(im)\n",
    "        print(\"Found optimal threshold:\", threshold)\n",
    "\n",
    "        # Segment the image by threshold\n",
    "        segmented_image = (im >= threshold)\n",
    "        assert im.shape == segmented_image.shape, \"Expected image shape ({}) to be same as thresholded image shape ({})\".format(\n",
    "                im.shape, segmented_image.shape)\n",
    "        assert segmented_image.dtype == bool, \"Expected thresholded image dtype to be np.bool. Was: {}\".format(\n",
    "                segmented_image.dtype)\n",
    "\n",
    "        segmented_image = utils.to_uint8(segmented_image)\n",
    "\n",
    "        save_path = \"{}-segmented.png\".format(impath.stem)\n",
    "        utils.save_im(save_path, segmented_image)"
   ],
   "metadata": {
    "collapsed": false,
    "pycharm": {
     "name": "#%%\n"
    }
   }
  }
 ],
 "metadata": {},
 "nbformat": 4,
 "nbformat_minor": 4
}