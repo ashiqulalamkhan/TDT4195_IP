{
 "cells": [
  {
   "cell_type": "code",
   "execution_count": 319,
   "metadata": {
    "pycharm": {
     "name": "#%%\n"
    }
   },
   "outputs": [],
   "source": [
    "import utils\n",
    "import numpy as np"
   ]
  },
  {
   "cell_type": "code",
   "execution_count": 324,
   "metadata": {
    "pycharm": {
     "name": "#%%\n"
    }
   },
   "outputs": [],
   "source": [
    "def region_growing(im: np.ndarray, seed_points: list, T: int) -> np.ndarray:\n",
    "    \"\"\"\n",
    "        A region growing algorithm that segments an image into 1 or 0 (True or False).\n",
    "        Finds candidate pixels with a Moore-neighborhood (8-connectedness). \n",
    "        Uses pixel intensity thresholding with the threshold T as the homogeneity criteria.\n",
    "        The function takes in a grayscale image and outputs a boolean image\n",
    "\n",
    "        args:\n",
    "            im: np.ndarray of shape (H, W) in the range [0, 255] (dtype=np.uint8)\n",
    "            seed_points: list of list containing seed points (row, col). Ex:\n",
    "                [[row1, col1], [row2, col2], ...]\n",
    "            T: integer value defining the threshold to used for the homogeneity criteria.\n",
    "        return:\n",
    "            (np.ndarray) of shape (H, W). dtype=np.bool\n",
    "    \"\"\"\n",
    "    ### START YOUR CODE HERE ### (You can change anything inside this block)\n",
    "    # You can also define other helper functions\n",
    "    ###############Array Delete same seed points previously traversed############################\n",
    "    def delete_traversed(im, a, b):\n",
    "        #a is new seed points and b is already traversed seed points\n",
    "        #we also check valid seed_points that does not go beyond boundrary values\n",
    "        z = []\n",
    "        for idx in range(len(a)):\n",
    "            unique = 0\n",
    "            for idy in range(len(b)):\n",
    "                if (a[idx][0]== b[idy][0] and a[idx][1]== b[idy][1]):\n",
    "                    unique += 1\n",
    "            if unique==0 and (-1<a[idx][0]<im.shape[0] and -1<a[idx][1]<im.shape[1]):\n",
    "                z.append([a[idx][0],a[idx][1]])\n",
    "        z = np.asarray(z)\n",
    "        return z\n",
    "    ###############################################################################\n",
    "    #######################Generate New Seed Points##########################################\n",
    "    def gen_seed_points(im, seed_points, thres):\n",
    "        new_seed_points = []\n",
    "        x = 0\n",
    "        for idx in range(len(seed_points)):\n",
    "            #valid seed points\n",
    "            if (0<seed_points[idx][0]<im.shape[0] and 0<seed_points[idx][1]<im.shape[1]):\n",
    "                h = seed_points[idx][0]\n",
    "                w = seed_points[idx][1]\n",
    "                #coordinate for pixel color of first seed point\n",
    "                hc = 254\n",
    "                wc = 138\n",
    "                #If neighbour pixels meet the threshold criteria\n",
    "                if abs(im[hc,wc]-im[h-1,w-1])<thres:\n",
    "                    new_seed_points.append([h-1,w-1])\n",
    "                    x+=1\n",
    "                if abs(im[hc,wc]-im[h-1,w])<thres:\n",
    "                    new_seed_points.append([h-1,w])\n",
    "                    x+=1\n",
    "                if abs(im[hc,wc]-im[h-1,w+1])<thres:\n",
    "                    new_seed_points.append([h-1,w+1])\n",
    "                    x+=1\n",
    "                if abs(im[hc,wc]-im[h,w-1])<thres:\n",
    "                    new_seed_points.append([h,w-1])\n",
    "                    x+=1\n",
    "                if abs(im[hc,wc]-im[h,w+1])<thres:\n",
    "                    new_seed_points.append([h,w+1])\n",
    "                    x+=1\n",
    "                if abs(im[hc,wc]-im[h+1,w-1])<thres:\n",
    "                    new_seed_points.append([h+1,w-1])\n",
    "                    x+=1\n",
    "                if abs(im[hc,wc]-im[h+1,w])<thres:\n",
    "                    new_seed_points.append([h+1,w])\n",
    "                    x+=1\n",
    "                if abs(im[hc,wc]-im[h+1,w+1])<thres:\n",
    "                    new_seed_points.append([h+1,w+1])\n",
    "                    x+=1\n",
    "        new_seed_points = np.asarray(new_seed_points)\n",
    "        #remove duplicate seed points if any\n",
    "        new_seed_points = np.unique(new_seed_points, axis = 0)\n",
    "\n",
    "        return new_seed_points\n",
    "    #########################################################################################\n",
    "    threshold = T\n",
    "    traversed_seed_points = seed_points\n",
    "    x = 0\n",
    "    while True:\n",
    "        x = x+1\n",
    "        #Updating seed Points that has been traversed and met the condition\n",
    "        if x!=0:\n",
    "            traversed_seed_points = np.append(traversed_seed_points, seed_points, axis=0)\n",
    "        #Generating new seed points that met the criteria\n",
    "        new_seed_points = gen_seed_points(im, seed_points, threshold)\n",
    "        #Deleting already traversed seed points from newly generated seed points\n",
    "        new_seed_points = delete_traversed(im, new_seed_points, traversed_seed_points)\n",
    "        #if there is no new seed points we break the loop\n",
    "        if new_seed_points.shape[0]==0:\n",
    "            break\n",
    "        #Updating current seed points to newly found seed points\n",
    "        seed_points = new_seed_points\n",
    "    #Segmentation based on all traversed seed points\n",
    "    segmented = np.zeros_like(im).astype(bool)\n",
    "    im = im.astype(float)\n",
    "    for row, col in traversed_seed_points:\n",
    "        segmented[row, col] = True\n",
    "    return segmented\n",
    "    ### END YOUR CODE HERE ###"
   ]
  },
  {
   "cell_type": "code",
   "execution_count": 327,
   "outputs": [
    {
     "name": "stdout",
     "output_type": "stream",
     "text": [
      "Reading image: images/defective-weld.png\n",
      "Saving image to: image_processed/defective-weld-segmented.png\n"
     ]
    },
    {
     "name": "stderr",
     "output_type": "stream",
     "text": [
      "/tmp/ipykernel_7668/4171674125.py:16: DeprecationWarning: `np.bool` is a deprecated alias for the builtin `bool`. To silence this warning, use `bool` by itself. Doing this will not modify any behavior and is safe. If you specifically wanted the numpy scalar type, use `np.bool_` here.\n",
      "Deprecated in NumPy 1.20; for more details and guidance: https://numpy.org/devdocs/release/1.20.0-notes.html#deprecations\n",
      "  assert segmented_image.dtype == np.bool, \"Expected thresholded image dtype to be np.bool. Was: {}\".format(\n"
     ]
    }
   ],
   "source": [
    "if __name__ == \"__main__\":\n",
    "    # DO NOT CHANGE\n",
    "    im = utils.read_image(\"defective-weld.png\")\n",
    "\n",
    "    seed_points = [ # (row, column)\n",
    "        [254, 138], # Seed point 1\n",
    "        [253, 296], # Seed point 2\n",
    "        [233, 436], # Seed point 3\n",
    "        [232, 417], # Seed point 4\n",
    "    ]\n",
    "    intensity_threshold = 50\n",
    "    segmented_image = region_growing(im, seed_points, intensity_threshold)\n",
    "\n",
    "    assert im.shape == segmented_image.shape, \"Expected image shape ({}) to be same as thresholded image shape ({})\".format(\n",
    "        im.shape, segmented_image.shape)\n",
    "    assert segmented_image.dtype == np.bool, \"Expected thresholded image dtype to be np.bool. Was: {}\".format(\n",
    "            segmented_image.dtype)\n",
    "\n",
    "    segmented_image = utils.to_uint8(segmented_image)\n",
    "    utils.save_im(\"defective-weld-segmented.png\", segmented_image)"
   ],
   "metadata": {
    "collapsed": false,
    "pycharm": {
     "name": "#%%\n"
    }
   }
  }
 ],
 "metadata": {},
 "nbformat": 4,
 "nbformat_minor": 4
}