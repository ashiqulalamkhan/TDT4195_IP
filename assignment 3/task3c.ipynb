{
 "cells": [
  {
   "cell_type": "code",
   "execution_count": 1,
   "metadata": {},
   "outputs": [],
   "source": [
    "import utils\n",
    "import skimage\n",
    "import skimage.morphology\n",
    "import numpy as np"
   ]
  },
  {
   "cell_type": "code",
   "execution_count": 4,
   "metadata": {},
   "outputs": [],
   "source": [
    "def extract_boundary(im: np.ndarray) -> np.ndarray:\n",
    "    \"\"\"\n",
    "        A function that extracts the inner boundary from a boolean image.\n",
    "\n",
    "        args:\n",
    "            im: np.ndarray of shape (H, W) with boolean values (dtype=np.bool)\n",
    "        return:\n",
    "            (np.ndarray) of shape (H, W). dtype=np.bool\n",
    "    \"\"\"\n",
    "    ### START YOUR CODE HERE ### (You can change anything inside this block)\n",
    "    # You can also define other helper functions\n",
    "    structuring_element=np.ones((3, 3))\n",
    "    im.astype(np.int)\n",
    "    im_er = skimage.morphology.binary_erosion(im, structuring_element)\n",
    "    im = (im.astype(np.float32) - im_er.astype(np.float32)).astype(np.bool)\n",
    "    boundary = im\n",
    "    return boundary\n",
    "    ### END YOUR CODE HERE ###"
   ]
  },
  {
   "cell_type": "code",
   "execution_count": 5,
   "metadata": {},
   "outputs": [
    {
     "name": "stdout",
     "output_type": "stream",
     "text": [
      "Reading image: images\\lincoln.png\n",
      "Saving image to: image_processed\\lincoln-boundary.png\n"
     ]
    },
    {
     "name": "stderr",
     "output_type": "stream",
     "text": [
      "C:\\Users\\Acer\\AppData\\Local\\Temp\\ipykernel_10888\\3112918982.py:13: DeprecationWarning: `np.int` is a deprecated alias for the builtin `int`. To silence this warning, use `int` by itself. Doing this will not modify any behavior and is safe. When replacing `np.int`, you may wish to use e.g. `np.int64` or `np.int32` to specify the precision. If you wish to review your current use, check the release note link for additional information.\n",
      "Deprecated in NumPy 1.20; for more details and guidance: https://numpy.org/devdocs/release/1.20.0-notes.html#deprecations\n",
      "  im.astype(np.int)\n",
      "C:\\Users\\Acer\\AppData\\Local\\Temp\\ipykernel_10888\\3112918982.py:15: DeprecationWarning: `np.bool` is a deprecated alias for the builtin `bool`. To silence this warning, use `bool` by itself. Doing this will not modify any behavior and is safe. If you specifically wanted the numpy scalar type, use `np.bool_` here.\n",
      "Deprecated in NumPy 1.20; for more details and guidance: https://numpy.org/devdocs/release/1.20.0-notes.html#deprecations\n",
      "  im = (im.astype(np.float32) - im_er.astype(np.float32)).astype(np.bool)\n",
      "C:\\Users\\Acer\\AppData\\Local\\Temp\\ipykernel_10888\\1855682742.py:8: DeprecationWarning: `np.bool` is a deprecated alias for the builtin `bool`. To silence this warning, use `bool` by itself. Doing this will not modify any behavior and is safe. If you specifically wanted the numpy scalar type, use `np.bool_` here.\n",
      "Deprecated in NumPy 1.20; for more details and guidance: https://numpy.org/devdocs/release/1.20.0-notes.html#deprecations\n",
      "  assert boundary.dtype == np.bool, \"Expected resulting image dtype to be np.bool. Was: {}\".format(\n"
     ]
    }
   ],
   "source": [
    "if __name__ == \"__main__\":\n",
    "    im = utils.read_image(\"lincoln.png\")\n",
    "    binary_image = (im != 0)\n",
    "    boundary = extract_boundary(binary_image)\n",
    "\n",
    "    assert im.shape == boundary.shape, \"Expected image shape ({}) to be same as resulting image shape ({})\".format(\n",
    "            im.shape, boundary.shape)\n",
    "    assert boundary.dtype == np.bool, \"Expected resulting image dtype to be np.bool. Was: {}\".format(\n",
    "            boundary.dtype)\n",
    "\n",
    "    boundary = utils.to_uint8(boundary)\n",
    "    utils.save_im(\"lincoln-boundary.png\", boundary)"
   ]
  }
 ],
 "metadata": {
  "kernelspec": {
   "display_name": "Python 3.8.5 ('base')",
   "language": "python",
   "name": "python3"
  },
  "language_info": {
   "codemirror_mode": {
    "name": "ipython",
    "version": 3
   },
   "file_extension": ".py",
   "mimetype": "text/x-python",
   "name": "python",
   "nbconvert_exporter": "python",
   "pygments_lexer": "ipython3",
   "version": "3.8.5"
  },
  "vscode": {
   "interpreter": {
    "hash": "c28da407b5413b3940d87ecdae5ea8ce0c2929d84f560e9f5daaaa2573d53e68"
   }
  }
 },
 "nbformat": 4,
 "nbformat_minor": 4
}
